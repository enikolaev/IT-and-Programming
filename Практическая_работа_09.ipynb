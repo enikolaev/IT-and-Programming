{
  "nbformat": 4,
  "nbformat_minor": 0,
  "metadata": {
    "colab": {
      "provenance": [],
      "authorship_tag": "ABX9TyPnHOQFTInjb5SKX9rXywwL",
      "include_colab_link": true
    },
    "kernelspec": {
      "name": "python3",
      "display_name": "Python 3"
    },
    "language_info": {
      "name": "python"
    }
  },
  "cells": [
    {
      "cell_type": "markdown",
      "metadata": {
        "id": "view-in-github",
        "colab_type": "text"
      },
      "source": [
        "<a href=\"https://colab.research.google.com/github/enikolaev/IT-and-Programming/blob/main/%D0%9F%D1%80%D0%B0%D0%BA%D1%82%D0%B8%D1%87%D0%B5%D1%81%D0%BA%D0%B0%D1%8F_%D1%80%D0%B0%D0%B1%D0%BE%D1%82%D0%B0_09.ipynb\" target=\"_parent\"><img src=\"https://colab.research.google.com/assets/colab-badge.svg\" alt=\"Open In Colab\"/></a>"
      ]
    },
    {
      "cell_type": "markdown",
      "source": [
        "# Практическая работа 9. Объектно-ориентированное программирование"
      ],
      "metadata": {
        "id": "C3DZeo7xi2HL"
      }
    },
    {
      "cell_type": "markdown",
      "source": [
        "ФИО: **Николаев Евгений Иванович**\n",
        "\n",
        "Группа: **ИНС-б-о-...**"
      ],
      "metadata": {
        "id": "n7jQfObbnO6_"
      }
    },
    {
      "cell_type": "markdown",
      "source": [
        "## Задание"
      ],
      "metadata": {
        "id": "8wIyzax9q7JF"
      }
    },
    {
      "cell_type": "markdown",
      "source": [
        "Разработать класс для представления объекта «Прямоугольный параллелепипед». Реализуйте все необходимые поля данных (закрытые) и методы позволяющие:\n",
        "* создавать объекты-параллелепипеды;\n",
        "* вычислять объем прямоугольного параллелепипеда;\n",
        "* вычислять площадь поверхности прямоугольного параллелепипеда;\n",
        "* выводить полную информацию об объекте в выходной файл."
      ],
      "metadata": {
        "id": "A1UMdzQGjFix"
      }
    },
    {
      "cell_type": "markdown",
      "source": [
        "## Решение"
      ],
      "metadata": {
        "id": "nvkT7lVbGG_l"
      }
    },
    {
      "cell_type": "markdown",
      "source": [
        "Решение данной задачи состоит из следующих этапов:\n",
        "проектирование класса; 2) объявление класса (кодирование); 3)\n",
        "\n",
        "1.   проектирование класса\n",
        "2.   объявление класса (кодирование)\n",
        "3.   демонстрация использования класса (создание объекта и вызов методов)\n",
        "\n",
        "Проектирование класса можно производить с использованием любого средства проектирования (UML-редактор, онлайн средства построения диаграмм ([https://www.draw.io](https://www.draw.io)), обычный графический редактор). На рисунке показана диаграмма классов для спроектированного класса Par.\n"
      ],
      "metadata": {
        "id": "AGeDnC-JGLBz"
      }
    },
    {
      "cell_type": "markdown",
      "source": [
        "<figure>\n",
        "<center>\n",
        "<img src='https://raw.githubusercontent.com/enikolaev/IT-and-Programming/refs/heads/main/data/image_for_pract_09.png' />\n",
        "<figcaption>Фрагмент csv-файла в github</figcaption></center>\n",
        "</figure>"
      ],
      "metadata": {
        "id": "7V0hrEbEbdlA"
      }
    },
    {
      "cell_type": "markdown",
      "source": [
        "На данном этапе проектирование завершается. Переходим к объявлению класса `Par`."
      ],
      "metadata": {
        "id": "pwmyfJoJb5sg"
      }
    },
    {
      "cell_type": "code",
      "source": [
        "class Par:\n",
        "  # Объявляем конструктор класса\n",
        "  def __init__(self, pa, pb, pc):\n",
        "    self.a=pa\n",
        "    self.b=pb\n",
        "    self.c=pc\n",
        "\n",
        "  # Объявляем метод для вычисления площади поверхности фигуры\n",
        "  def GetS(self):\n",
        "    return 2*(self.a*self.b + self.b*self.c + self.a*self.c)\n",
        "\n",
        "  # Объявляем метод для вычисления объема\n",
        "  def GetV(self):\n",
        "    return self.a*self.b*self.c\n",
        "\n",
        "  # Объявление метода для вывода информации о фигуре\n",
        "  def Info(self):\n",
        "    print('*'*20)\n",
        "    print('Прямоугольный параллелепипед: \\n')\n",
        "    print('Размеры: %.2f x %.2f x %.2f' % (self.a, self.b, self.c))\n",
        "    print('Площадь: %.3f' % self.GetS())\n",
        "    print('Объем: %.3f' % self.GetV())\n",
        "    print('*'*20)\n",
        "\n",
        "  def Load(path_to_file):\n",
        "    # Предполагаем, что в файле записаны 3 числа в строку через пробел\n",
        "    d = open(path_to_file).read().strip().split()\n",
        "    tmp = Par(float(d[0]), float(d[0]), float(d[0]))\n",
        "    return tmp"
      ],
      "metadata": {
        "id": "THyFl2qOJTzi"
      },
      "execution_count": 1,
      "outputs": []
    },
    {
      "cell_type": "markdown",
      "source": [
        "В данном листинге производится объявление типа данных `Par` с использованием зарезервированного слова `class`. Внутри класса объявляются функции (методы класса) и переменные (поля данных класса). Следует обратить внимание на использование зарезервированного слова `self`.\n",
        "Также внутри класса объявлен метод `__init__()`. Данный метод имеет специальное назначение - он вызывается в момент создания переменной данного класса автоматически. Данный метод называется конструктор класса."
      ],
      "metadata": {
        "id": "tKquyHrdMFWB"
      }
    },
    {
      "cell_type": "markdown",
      "source": [
        "Использование разработанного типа данных `Par`"
      ],
      "metadata": {
        "id": "RGlwZaXQrAfd"
      }
    },
    {
      "cell_type": "code",
      "source": [
        "# Создание объекта p1 типа Par (используется конструктор)\n",
        "p1 = Par(10, 20, 30)\n",
        "# Вызов метода класса\n",
        "p1.Info()"
      ],
      "metadata": {
        "colab": {
          "base_uri": "https://localhost:8080/"
        },
        "id": "F6XZwISDLl-M",
        "outputId": "558e32a7-d373-40a3-de92-6aad932a08da"
      },
      "execution_count": 2,
      "outputs": [
        {
          "output_type": "stream",
          "name": "stdout",
          "text": [
            "********************\n",
            "Прямоугольный параллелепипед: \n",
            "\n",
            "Размеры: 10.00 x 20.00 x 30.00\n",
            "Площадь: 2200.000\n",
            "Объем: 6000.000\n",
            "********************\n"
          ]
        }
      ]
    },
    {
      "cell_type": "markdown",
      "source": [
        "Изучим загрузку данных в поля класса с использованием метода `Load()`"
      ],
      "metadata": {
        "id": "dusmGf0PoHeU"
      }
    },
    {
      "cell_type": "code",
      "source": [
        "!wget https://raw.githubusercontent.com/enikolaev/IT-and-Programming/refs/heads/main/data/pract9/data_for_load.txt"
      ],
      "metadata": {
        "colab": {
          "base_uri": "https://localhost:8080/"
        },
        "id": "3y5mYTT_N7m9",
        "outputId": "b4f88135-1f21-477c-bbc3-8bf486ecbfaa"
      },
      "execution_count": 3,
      "outputs": [
        {
          "output_type": "stream",
          "name": "stdout",
          "text": [
            "--2025-01-16 20:38:37--  https://raw.githubusercontent.com/enikolaev/IT-and-Programming/refs/heads/main/data/pract9/data_for_load.txt\n",
            "Resolving raw.githubusercontent.com (raw.githubusercontent.com)... 185.199.109.133, 185.199.110.133, 185.199.108.133, ...\n",
            "Connecting to raw.githubusercontent.com (raw.githubusercontent.com)|185.199.109.133|:443... connected.\n",
            "HTTP request sent, awaiting response... 200 OK\n",
            "Length: 16 [text/plain]\n",
            "Saving to: ‘data_for_load.txt’\n",
            "\n",
            "data_for_load.txt   100%[===================>]      16  --.-KB/s    in 0s      \n",
            "\n",
            "2025-01-16 20:38:38 (265 KB/s) - ‘data_for_load.txt’ saved [16/16]\n",
            "\n"
          ]
        }
      ]
    },
    {
      "cell_type": "markdown",
      "source": [
        "Выполним загрузку данных"
      ],
      "metadata": {
        "id": "KLhjLm6SObb1"
      }
    },
    {
      "cell_type": "code",
      "source": [
        "fpath='data_for_load.txt'\n",
        "print('Содержимое фаайла:')\n",
        "print(open(fpath).read())\n",
        "\n",
        "p2 = Par.Load(fpath)\n",
        "p2.Info()"
      ],
      "metadata": {
        "colab": {
          "base_uri": "https://localhost:8080/"
        },
        "id": "cEvievJ-OjZ5",
        "outputId": "3d2c81cd-0241-47e6-e3d5-b86488e7905c"
      },
      "execution_count": 5,
      "outputs": [
        {
          "output_type": "stream",
          "name": "stdout",
          "text": [
            "Содержимое фаайла:\n",
            "23.5 60.45 50.1\n",
            "\n",
            "********************\n",
            "Прямоугольный параллелепипед: \n",
            "\n",
            "Размеры: 23.50 x 23.50 x 23.50\n",
            "Площадь: 3313.500\n",
            "Объем: 12977.875\n",
            "********************\n"
          ]
        }
      ]
    },
    {
      "cell_type": "markdown",
      "source": [
        "Следует обратит внимание на объявление метода `Load()` в классе Par. Несмотря на его принадлежность классу, сам метод не содержит параметра `self`.\n",
        "\n",
        "Это значит, что метод не принадлежит конкретному экземпляру (объекту), он принадлежит самому классу. Такие методы называют статическими. Для вызова статического метода нет необходимости явно создавать объект класса, используя конструктор. Статический метод вызывается из класса."
      ],
      "metadata": {
        "id": "xoKBRMMiQLuZ"
      }
    },
    {
      "cell_type": "markdown",
      "source": [
        "# Контрольные вопросы"
      ],
      "metadata": {
        "id": "JRIh2qs3mz4D"
      }
    },
    {
      "cell_type": "markdown",
      "source": [
        "Ответы на контрольные вопросы с кодом ...."
      ],
      "metadata": {
        "id": "N0BSKd_1m91y"
      }
    }
  ]
}