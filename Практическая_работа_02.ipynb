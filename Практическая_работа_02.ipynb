{
  "nbformat": 4,
  "nbformat_minor": 0,
  "metadata": {
    "colab": {
      "provenance": [],
      "toc_visible": true,
      "authorship_tag": "ABX9TyP2miZwH0oRogAUbXHEZN7T",
      "include_colab_link": true
    },
    "kernelspec": {
      "name": "python3",
      "display_name": "Python 3"
    },
    "language_info": {
      "name": "python"
    }
  },
  "cells": [
    {
      "cell_type": "markdown",
      "metadata": {
        "id": "view-in-github",
        "colab_type": "text"
      },
      "source": [
        "<a href=\"https://colab.research.google.com/github/enikolaev/IT-and-Programming/blob/main/%D0%9F%D1%80%D0%B0%D0%BA%D1%82%D0%B8%D1%87%D0%B5%D1%81%D0%BA%D0%B0%D1%8F_%D1%80%D0%B0%D0%B1%D0%BE%D1%82%D0%B0_02.ipynb\" target=\"_parent\"><img src=\"https://colab.research.google.com/assets/colab-badge.svg\" alt=\"Open In Colab\"/></a>"
      ]
    },
    {
      "cell_type": "markdown",
      "source": [
        "# Практическая работа 2. Управление ходом выполнения программы"
      ],
      "metadata": {
        "id": "C3DZeo7xi2HL"
      }
    },
    {
      "cell_type": "markdown",
      "source": [
        "## Задание"
      ],
      "metadata": {
        "id": "8wIyzax9q7JF"
      }
    },
    {
      "cell_type": "markdown",
      "source": [
        "Необходимо вычислить значение выражения:\n",
        "$$Z=\\frac{1}{1\\cdot3}-\\frac{X}{2\\cdot4}+\\frac{X^2}{3\\cdot5}-\\frac{X^3}{4\\cdot6}+...$$\n",
        "Для каждой переменной необходимо вывести ее значение и тип."
      ],
      "metadata": {
        "id": "A1UMdzQGjFix"
      }
    },
    {
      "cell_type": "markdown",
      "source": [
        "## Анализ выражения и определение переменных"
      ],
      "metadata": {
        "id": "RGlwZaXQrAfd"
      }
    },
    {
      "cell_type": "markdown",
      "source": [
        "Проанализируем выражение и определим переменные, которые потребуются для выполнения задания. Независимые переменные: $X$. Переменная, которая должна быть вычислена на основе независимых: $Z$.\n",
        "\n",
        "Следует обратить внимание, что в выражении неизвестное число слагаемых, поэтому необходимо ввести переменную $N$ для представления количества слагаемых.\n",
        "\n",
        "Обратите внимание, что знаки слагаемых чередуются, а степени числителя и множетели знаменателя привязаны к порядковому номеру слагаемого."
      ],
      "metadata": {
        "id": "dusmGf0PoHeU"
      }
    },
    {
      "cell_type": "markdown",
      "source": [
        "## Вычисление выражение, печать результатов"
      ],
      "metadata": {
        "id": "JCG1FflCrJRE"
      }
    },
    {
      "cell_type": "markdown",
      "source": [
        "Код для вычисления значения выражения $Z$:"
      ],
      "metadata": {
        "id": "9ky-Ji8ppVb9"
      }
    },
    {
      "cell_type": "code",
      "source": [
        "X = 2\n",
        "N = 10\n",
        "Z = 0\n",
        "for i in range(1, N+1):\n",
        "  chisl = X**(i-1)\n",
        "  znam = i * (i+1)\n",
        "  if i%2==1:\n",
        "    Z += chisl / znam\n",
        "  else:\n",
        "    Z -= chisl/znam\n",
        "print(Z)"
      ],
      "metadata": {
        "colab": {
          "base_uri": "https://localhost:8080/"
        },
        "id": "v5SpmCokphuJ",
        "outputId": "18fc6873-b4f0-4ba7-a07e-52c217905ae7"
      },
      "execution_count": null,
      "outputs": [
        {
          "output_type": "stream",
          "name": "stdout",
          "text": [
            "-2.573593073593073\n"
          ]
        }
      ]
    },
    {
      "cell_type": "markdown",
      "source": [
        "Решите пример в соответствии с индивидуальным заданием"
      ],
      "metadata": {
        "id": "tYY7u7KkSm3q"
      }
    },
    {
      "cell_type": "code",
      "source": [
        "# Здесь код индивидуального задания..."
      ],
      "metadata": {
        "id": "pGUPuCfkOTUR"
      },
      "execution_count": null,
      "outputs": []
    }
  ]
}