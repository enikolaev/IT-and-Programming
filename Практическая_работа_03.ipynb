{
  "nbformat": 4,
  "nbformat_minor": 0,
  "metadata": {
    "colab": {
      "provenance": [],
      "toc_visible": true,
      "authorship_tag": "ABX9TyOT+ftmr5C+gRzTJZzGKTRJ",
      "include_colab_link": true
    },
    "kernelspec": {
      "name": "python3",
      "display_name": "Python 3"
    },
    "language_info": {
      "name": "python"
    }
  },
  "cells": [
    {
      "cell_type": "markdown",
      "metadata": {
        "id": "view-in-github",
        "colab_type": "text"
      },
      "source": [
        "<a href=\"https://colab.research.google.com/github/enikolaev/IT-and-Programming/blob/main/%D0%9F%D1%80%D0%B0%D0%BA%D1%82%D0%B8%D1%87%D0%B5%D1%81%D0%BA%D0%B0%D1%8F_%D1%80%D0%B0%D0%B1%D0%BE%D1%82%D0%B0_03.ipynb\" target=\"_parent\"><img src=\"https://colab.research.google.com/assets/colab-badge.svg\" alt=\"Open In Colab\"/></a>"
      ]
    },
    {
      "cell_type": "markdown",
      "source": [
        "# Практическая работа 3. Пользовательские функции"
      ],
      "metadata": {
        "id": "C3DZeo7xi2HL"
      }
    },
    {
      "cell_type": "markdown",
      "source": [
        "## Задание"
      ],
      "metadata": {
        "id": "8wIyzax9q7JF"
      }
    },
    {
      "cell_type": "markdown",
      "source": [
        "Напишите функцию для вычисления суммы квадратов натуральных чисел от **a** до **b**, где **a** и **b** – натуральные числа. Продемоснстрируйте использование объявленной функции."
      ],
      "metadata": {
        "id": "A1UMdzQGjFix"
      }
    },
    {
      "cell_type": "markdown",
      "source": [
        "## Решение"
      ],
      "metadata": {
        "id": "JCG1FflCrJRE"
      }
    },
    {
      "cell_type": "markdown",
      "source": [
        "### Объявление функции"
      ],
      "metadata": {
        "id": "JsqExQ3qMQt_"
      }
    },
    {
      "cell_type": "code",
      "source": [
        "def sum_ab(a, b):\n",
        "  s = 0\n",
        "  for i in range(a, b+1):\n",
        "    s+=i*i\n",
        "  return s"
      ],
      "metadata": {
        "id": "v5SpmCokphuJ"
      },
      "execution_count": null,
      "outputs": []
    },
    {
      "cell_type": "markdown",
      "source": [
        "### Демонстрация использования функции"
      ],
      "metadata": {
        "id": "86_nmZ2pMUBI"
      }
    },
    {
      "cell_type": "code",
      "source": [
        "x, y = 1, 2\n",
        "print(f'Сумма квадратов числел от {x} до {y}: {sum_ab(x, y)}')\n",
        "x, y = 500, 50000\n",
        "print(f'Сумма квадратов числел от {x} до {y}: {sum_ab(x, y)}')\n",
        "x, y = 268, 3258\n",
        "print(f'Сумма квадратов числел от {x} до {y}: {sum_ab(x, y)}')"
      ],
      "metadata": {
        "colab": {
          "base_uri": "https://localhost:8080/"
        },
        "id": "5uk9Qs_ZMYUR",
        "outputId": "9dc44730-6c2b-4329-cd2d-0724f9c754e1"
      },
      "execution_count": null,
      "outputs": [
        {
          "output_type": "stream",
          "name": "stdout",
          "text": [
            "Сумма квадратов числел от 1 до 2: 5\n",
            "Сумма квадратов числел от 500 до 50000: 41667875133250\n",
            "Сумма квадратов числел от 268 до 3258: 11526343919\n"
          ]
        }
      ]
    },
    {
      "cell_type": "markdown",
      "source": [
        "Решите пример в соответствии с индивидуальным заданием"
      ],
      "metadata": {
        "id": "tYY7u7KkSm3q"
      }
    },
    {
      "cell_type": "code",
      "source": [
        "# Здесь код индивидуального задания..."
      ],
      "metadata": {
        "id": "3OygwI5wMbGr"
      },
      "execution_count": null,
      "outputs": []
    }
  ]
}