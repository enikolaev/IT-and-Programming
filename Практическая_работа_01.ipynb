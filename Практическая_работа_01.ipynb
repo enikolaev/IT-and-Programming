{
  "nbformat": 4,
  "nbformat_minor": 0,
  "metadata": {
    "colab": {
      "provenance": [],
      "toc_visible": true,
      "authorship_tag": "ABX9TyMpm8jqq5R9Fbe38x2FWjJE",
      "include_colab_link": true
    },
    "kernelspec": {
      "name": "python3",
      "display_name": "Python 3"
    },
    "language_info": {
      "name": "python"
    }
  },
  "cells": [
    {
      "cell_type": "markdown",
      "metadata": {
        "id": "view-in-github",
        "colab_type": "text"
      },
      "source": [
        "<a href=\"https://colab.research.google.com/github/enikolaev/IT-and-Programming/blob/main/%D0%9F%D1%80%D0%B0%D0%BA%D1%82%D0%B8%D1%87%D0%B5%D1%81%D0%BA%D0%B0%D1%8F_%D1%80%D0%B0%D0%B1%D0%BE%D1%82%D0%B0_01.ipynb\" target=\"_parent\"><img src=\"https://colab.research.google.com/assets/colab-badge.svg\" alt=\"Open In Colab\"/></a>"
      ]
    },
    {
      "cell_type": "markdown",
      "source": [
        "# Практическая работа 1. Простейший скрипт Python"
      ],
      "metadata": {
        "id": "C3DZeo7xi2HL"
      }
    },
    {
      "cell_type": "markdown",
      "source": [
        "## Задание"
      ],
      "metadata": {
        "id": "8wIyzax9q7JF"
      }
    },
    {
      "cell_type": "markdown",
      "source": [
        "Необходимо вычислить значение выражения:\n",
        "$$Z=\\frac{x^y-\\sqrt[3]{x}}{a\\cdot({k\\_to + 120\\cdot|x-y|})}$$\n",
        "Для каждой переменной необходимо вывести ее значение и тип."
      ],
      "metadata": {
        "id": "A1UMdzQGjFix"
      }
    },
    {
      "cell_type": "markdown",
      "source": [
        "## Анализ выражения и определение переменных"
      ],
      "metadata": {
        "id": "RGlwZaXQrAfd"
      }
    },
    {
      "cell_type": "markdown",
      "source": [
        "Проанализируем выражение и определим переменные, которые потребуются для выполнения задания. Независимые переменные: $x, y, a, k\\_to$. Переменная, которая должна быть вычислена на основе независимых: $Z$."
      ],
      "metadata": {
        "id": "dusmGf0PoHeU"
      }
    },
    {
      "cell_type": "code",
      "execution_count": null,
      "metadata": {
        "id": "GRcewQyGh7dD",
        "colab": {
          "base_uri": "https://localhost:8080/"
        },
        "outputId": "9d0cebf6-6700-4298-a16f-36b4b1f090b1"
      },
      "outputs": [
        {
          "output_type": "stream",
          "name": "stdout",
          "text": [
            "x =  10 , type(x) =  <class 'int'>\n",
            "y =  30.67 , type(y) =  <class 'float'>\n",
            "k_to =  5 , type(k_to) =  <class 'int'>\n",
            "a =  5 , type(a) =  <class 'int'>\n"
          ]
        }
      ],
      "source": [
        "x=10\n",
        "y=30.67\n",
        "a=5\n",
        "k_to=5\n",
        "print(\"x = \", x, \", type(x) = \", type(x))\n",
        "print(\"y = \", y, \", type(y) = \", type(y))\n",
        "print(\"k_to = \", k_to, \", type(k_to) = \", type(k_to))\n",
        "print(\"a = \", a, \", type(a) = \", type(a))"
      ]
    },
    {
      "cell_type": "markdown",
      "source": [
        "## Вычисление выражение, печать результатов"
      ],
      "metadata": {
        "id": "JCG1FflCrJRE"
      }
    },
    {
      "cell_type": "markdown",
      "source": [
        "Код для вычисления значения выражения $Z$:"
      ],
      "metadata": {
        "id": "9ky-Ji8ppVb9"
      }
    },
    {
      "cell_type": "code",
      "source": [
        "Z=(x**y-x**(1/3))/(a*(k_to+120*abs(x-y)))\n",
        "print('Z=',Z)\n",
        "print('Type of Z: ', type(Z))"
      ],
      "metadata": {
        "colab": {
          "base_uri": "https://localhost:8080/"
        },
        "id": "v5SpmCokphuJ",
        "outputId": "73c75de3-9eaf-4721-c3ea-d373d675885f"
      },
      "execution_count": null,
      "outputs": [
        {
          "output_type": "stream",
          "name": "stdout",
          "text": [
            "Z= 3.76386208487326e+26\n",
            "Type of Z:  <class 'float'>\n"
          ]
        }
      ]
    },
    {
      "cell_type": "markdown",
      "source": [
        "Основные функции, используемые в данной практической работе: `print(), type(), abs()`"
      ],
      "metadata": {
        "id": "QgydWXtBqRUl"
      }
    }
  ]
}