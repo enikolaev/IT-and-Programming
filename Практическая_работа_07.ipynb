{
  "nbformat": 4,
  "nbformat_minor": 0,
  "metadata": {
    "colab": {
      "provenance": [],
      "toc_visible": true,
      "authorship_tag": "ABX9TyPc2UWYldRdXgyh0fiF0Ab9",
      "include_colab_link": true
    },
    "kernelspec": {
      "name": "python3",
      "display_name": "Python 3"
    },
    "language_info": {
      "name": "python"
    }
  },
  "cells": [
    {
      "cell_type": "markdown",
      "metadata": {
        "id": "view-in-github",
        "colab_type": "text"
      },
      "source": [
        "<a href=\"https://colab.research.google.com/github/enikolaev/IT-and-Programming/blob/main/%D0%9F%D1%80%D0%B0%D0%BA%D1%82%D0%B8%D1%87%D0%B5%D1%81%D0%BA%D0%B0%D1%8F_%D1%80%D0%B0%D0%B1%D0%BE%D1%82%D0%B0_07.ipynb\" target=\"_parent\"><img src=\"https://colab.research.google.com/assets/colab-badge.svg\" alt=\"Open In Colab\"/></a>"
      ]
    },
    {
      "cell_type": "markdown",
      "source": [
        "# Практическая работа 7. Обработка данных из файла. Использование коллекций"
      ],
      "metadata": {
        "id": "C3DZeo7xi2HL"
      }
    },
    {
      "cell_type": "markdown",
      "source": [
        "ФИО: **Николаев Евгений Иванович**\n",
        "\n",
        "Группа: **ИНС-б-о-...**"
      ],
      "metadata": {
        "id": "n7jQfObbnO6_"
      }
    },
    {
      "cell_type": "markdown",
      "source": [
        "## Задание"
      ],
      "metadata": {
        "id": "8wIyzax9q7JF"
      }
    },
    {
      "cell_type": "markdown",
      "source": [
        "На рисунке показан фрагмент файла `data_v3.csv`, содержащего информацию о держателях финансовых карт."
      ],
      "metadata": {
        "id": "A1UMdzQGjFix"
      }
    },
    {
      "cell_type": "markdown",
      "source": [
        "<figure>\n",
        "<center>\n",
        "<img src='https://raw.githubusercontent.com/enikolaev/IT-and-Programming/refs/heads/main/data/image_for_pract_07.png'/>\n",
        "<figcaption>Фрагмент csv-файла в github</figcaption></center>\n",
        "</figure>"
      ],
      "metadata": {
        "id": "7V0hrEbEbdlA"
      }
    },
    {
      "cell_type": "markdown",
      "source": [
        "В data_v3.csv присутствуют следующие поля: `ID` – уникальный ключ записи; `LastName`, `firstName` – фамилия и имя держателя карты; `email` – электронная почта; `Plus` и `Minus` – суммы поступлений и списаний по карте соответственно в долларах; `credit_card` – номер карты; `Tax` – уплаченный налог.\n",
        "Необходимо ответить на следующий вопросы:\n",
        "1. Найдите держателя карты с максимальной прибылью. В ответе необходимо указать ФИО держателя и максимальную прибыль (прибыль = поступления – списания).\n",
        "2. Найдите количество держателей карт, у которых сумма уплаченного налога больше среднего арифметического значения налога по всей выборке.\n"
      ],
      "metadata": {
        "id": "pwmyfJoJb5sg"
      }
    },
    {
      "cell_type": "markdown",
      "source": [
        "## Анализ задания, получение данных"
      ],
      "metadata": {
        "id": "RGlwZaXQrAfd"
      }
    },
    {
      "cell_type": "markdown",
      "source": [
        "Файл data_v3.txt расположен репозитории. Выполним копирование файла в локальное хранилище Google Colab, используя следующую команду:"
      ],
      "metadata": {
        "id": "dusmGf0PoHeU"
      }
    },
    {
      "cell_type": "code",
      "execution_count": 1,
      "metadata": {
        "id": "GRcewQyGh7dD",
        "colab": {
          "base_uri": "https://localhost:8080/"
        },
        "outputId": "5c60b036-6d2a-4cad-c549-746729301d88"
      },
      "outputs": [
        {
          "output_type": "stream",
          "name": "stdout",
          "text": [
            "--2025-01-16 20:13:34--  https://raw.githubusercontent.com/enikolaev/IT-and-Programming/main/data/data_v3.csv\n",
            "Resolving raw.githubusercontent.com (raw.githubusercontent.com)... 185.199.108.133, 185.199.111.133, 185.199.110.133, ...\n",
            "Connecting to raw.githubusercontent.com (raw.githubusercontent.com)|185.199.108.133|:443... connected.\n",
            "HTTP request sent, awaiting response... 200 OK\n",
            "Length: 92780 (91K) [text/plain]\n",
            "Saving to: ‘data_v3.csv’\n",
            "\n",
            "data_v3.csv         100%[===================>]  90.61K  --.-KB/s    in 0.02s   \n",
            "\n",
            "2025-01-16 20:13:34 (3.56 MB/s) - ‘data_v3.csv’ saved [92780/92780]\n",
            "\n"
          ]
        }
      ],
      "source": [
        "!wget https://raw.githubusercontent.com/enikolaev/IT-and-Programming/main/data/data_v3.csv\n"
      ]
    },
    {
      "cell_type": "markdown",
      "source": [
        "Можно скопировать и поместить файл с данными любым удобным способом"
      ],
      "metadata": {
        "id": "hupq--jq0PA3"
      }
    },
    {
      "cell_type": "markdown",
      "source": [
        "Реализуем чтение всего файла построчно. Используем метод `open()`, а затем будем обходить файл как коллекцию с использованием цикла `for line in File`. Очевидно, что csv-файл используется в данной работе как обычный текстовый файл и в цикле `for` производится последовательный обход всех строк этого файла, то есть текстовый файл - это коллекция его строк.\n",
        "В файле много строк, поэтому будем выводить только первые `n_to_print` строк, но обрабатывать будем все (чтобы не возникло скрытых ошибок)"
      ],
      "metadata": {
        "id": "YlvR9gr-9qJY"
      }
    },
    {
      "cell_type": "code",
      "source": [
        "F=open('data_v3.csv')\n",
        "n_to_print=10\n",
        "for line in F:\n",
        "  n_to_print-=1\n",
        "  if n_to_print>0:\n",
        "    print(line)"
      ],
      "metadata": {
        "colab": {
          "base_uri": "https://localhost:8080/"
        },
        "id": "GzShFx3l0l49",
        "outputId": "7fd9e3b7-a8a8-48aa-94cf-f1079f20cd42"
      },
      "execution_count": 2,
      "outputs": [
        {
          "output_type": "stream",
          "name": "stdout",
          "text": [
            "ID,LastName,FirstName,email,Plus,Minus,credit_card,Tax\n",
            "\n",
            "12-9321320,Pickle,Réjane,,$41564.80,$46160.22,3557725016917448,$16408.20\n",
            "\n",
            "14-4213773,Hartford,Léa,,$46310.29,$13116.21,3544948067779642,$13397.19\n",
            "\n",
            "92-0579703,Caldecott,Adélaïde,lcaldecott2@com.com,$44330.64,$9725.39,4508863396652307,$35768.27\n",
            "\n",
            "43-3066209,Dohrmann,Cloé,odohrmann3@gov.uk,$32271.10,$33467.96,6398709109212517,$3876.95\n",
            "\n",
            "39-1753452,Pes,Zhì,dpes4@trellian.com,$24467.01,$5220.55,3562917312487449,$5559.11\n",
            "\n",
            "98-1640163,Satyford,Pénélope,asatyford5@friendfeed.com,$31883.05,$11529.92,3564171803659243,$5939.26\n",
            "\n",
            "58-9143184,Corballis,Clémentine,scorballis6@mapquest.com,$25340.90,$3241.86,341075109903237,$45625.23\n",
            "\n",
            "87-3594410,Hiseman,Bénédicte,chiseman7@sciencedirect.com,$46081.76,$36954.21,3548420880126084,$19464.18\n",
            "\n"
          ]
        }
      ]
    },
    {
      "cell_type": "markdown",
      "source": [
        "Строки перебираются, но теперь необходимо разделить единую строку на отдельные элементы данных. Для этого выполним метод `split(sep)`, который разрезает строку, используя символ `sep` в качестве разделителя. Также обратим внимание на тот факт, что в первой строке содержатся не данные, а заголовки столбцов."
      ],
      "metadata": {
        "id": "7F4tUxgX1dwL"
      }
    },
    {
      "cell_type": "code",
      "source": [
        "# доработка предыдущего кода\n",
        "F=open('data_v3.csv')\n",
        "header = F.readline().strip().split(',')\n",
        "print(header)\n",
        "print('-'*20)\n",
        "n_to_print=10\n",
        "for line in F:\n",
        "  # производим обработку в любом случае ...\n",
        "  data = line.strip().split(',')\n",
        "  # ... аа печатаем только первые n_to_print\n",
        "  n_to_print-=1\n",
        "  if n_to_print>0:\n",
        "    print(data)"
      ],
      "metadata": {
        "colab": {
          "base_uri": "https://localhost:8080/"
        },
        "id": "MfetHR3Jfs9W",
        "outputId": "5153ae19-450c-42e3-a7e6-37483711ce1d"
      },
      "execution_count": 7,
      "outputs": [
        {
          "output_type": "stream",
          "name": "stdout",
          "text": [
            "['ID', 'LastName', 'FirstName', 'email', 'Plus', 'Minus', 'credit_card', 'Tax']\n",
            "--------------------\n",
            "['12-9321320', 'Pickle', 'Réjane', '', '$41564.80', '$46160.22', '3557725016917448', '$16408.20']\n",
            "['14-4213773', 'Hartford', 'Léa', '', '$46310.29', '$13116.21', '3544948067779642', '$13397.19']\n",
            "['92-0579703', 'Caldecott', 'Adélaïde', 'lcaldecott2@com.com', '$44330.64', '$9725.39', '4508863396652307', '$35768.27']\n",
            "['43-3066209', 'Dohrmann', 'Cloé', 'odohrmann3@gov.uk', '$32271.10', '$33467.96', '6398709109212517', '$3876.95']\n",
            "['39-1753452', 'Pes', 'Zhì', 'dpes4@trellian.com', '$24467.01', '$5220.55', '3562917312487449', '$5559.11']\n",
            "['98-1640163', 'Satyford', 'Pénélope', 'asatyford5@friendfeed.com', '$31883.05', '$11529.92', '3564171803659243', '$5939.26']\n",
            "['58-9143184', 'Corballis', 'Clémentine', 'scorballis6@mapquest.com', '$25340.90', '$3241.86', '341075109903237', '$45625.23']\n",
            "['87-3594410', 'Hiseman', 'Bénédicte', 'chiseman7@sciencedirect.com', '$46081.76', '$36954.21', '3548420880126084', '$19464.18']\n",
            "['74-7031522', 'Easton', 'Mà', '', '$37139.51', '$14322.80', '3528412919441844', '$44003.80']\n"
          ]
        }
      ]
    },
    {
      "cell_type": "markdown",
      "source": [
        "Метод `split()` вернул список отдельных строк - полстрок исходной строки. Теперь необходимо сформировать структуру данных максимально полно описывающую предметную область.\n",
        "Для этого сформируем список словарей, то есть все данные в процессе чтения будем построчно перемещать в список `all_clients`, при этом каждый клиент будет представлен в виде словаря. Например первая строка в файле будет выглядеть следующим образом:\n",
        "\n",
        "`example = {'ID' : '12-9321320', 'LastName':'Pickle', 'FirstName':'Réjane', 'email':None, 'Plus':41564.80, 'Minus':46160.22, 'credit_card':'3557725016917448', 'Tax':16408.20}`"
      ],
      "metadata": {
        "id": "Ih9fLQW3gAYf"
      }
    },
    {
      "cell_type": "markdown",
      "source": [
        "то есть будет сформирована структура данных в которой все элементыы представляют собой пары вида `ключ` : `значение`, при этом как и в списке возможно обращение к элементамм данной структуры по индексу, только в словарях вместо целочисленного индекса используется ключ.\n",
        "Например, применительно к первой строке, обратиться к сумме поступления для ее печати можно следующим образом:\n",
        "\n",
        "`print( example['Plus'] )`"
      ],
      "metadata": {
        "id": "ujQ4VL6ukC3I"
      }
    },
    {
      "cell_type": "code",
      "source": [
        "# Доработаем предыдущий скрипт\n",
        "F=open('data_v3.csv')\n",
        "header = F.readline().strip().split(',')\n",
        "\n",
        "# список всех клиентов\n",
        "all_clients=[]\n",
        "\n",
        "for line in F:\n",
        "  data = line.strip().split(',')\n",
        "  client = {} # создаем пустой словарь\n",
        "  for i, key in enumerate(header): # обходим все заголовки\n",
        "    client[key] = data[i] # добавляем в словарь клюс:значение\n",
        "\n",
        "  # некоторые значения придется конвертировать к подходящим типам\n",
        "  client['Minus'] = float(client['Minus'][1:])\n",
        "  client['Plus'] = float(client['Plus'][1:])\n",
        "  client['Tax'] = float(client['Tax'][1:])\n",
        "\n",
        "  all_clients.append(client) # добавляем клиента в скписок\n",
        "\n",
        "print(all_clients[:10]) # напечатаем первых 10 клиентов\n",
        "\n",
        "F.close() # файл больше не нужен"
      ],
      "metadata": {
        "colab": {
          "base_uri": "https://localhost:8080/"
        },
        "id": "2cjhX1fQiQFO",
        "outputId": "13857df2-c82c-44d4-a266-beebe3ed7c43"
      },
      "execution_count": 4,
      "outputs": [
        {
          "output_type": "stream",
          "name": "stdout",
          "text": [
            "[{'ID': '12-9321320', 'LastName': 'Pickle', 'FirstName': 'Réjane', 'email': '', 'Plus': 41564.8, 'Minus': 46160.22, 'credit_card': '3557725016917448', 'Tax': 16408.2}, {'ID': '14-4213773', 'LastName': 'Hartford', 'FirstName': 'Léa', 'email': '', 'Plus': 46310.29, 'Minus': 13116.21, 'credit_card': '3544948067779642', 'Tax': 13397.19}, {'ID': '92-0579703', 'LastName': 'Caldecott', 'FirstName': 'Adélaïde', 'email': 'lcaldecott2@com.com', 'Plus': 44330.64, 'Minus': 9725.39, 'credit_card': '4508863396652307', 'Tax': 35768.27}, {'ID': '43-3066209', 'LastName': 'Dohrmann', 'FirstName': 'Cloé', 'email': 'odohrmann3@gov.uk', 'Plus': 32271.1, 'Minus': 33467.96, 'credit_card': '6398709109212517', 'Tax': 3876.95}, {'ID': '39-1753452', 'LastName': 'Pes', 'FirstName': 'Zhì', 'email': 'dpes4@trellian.com', 'Plus': 24467.01, 'Minus': 5220.55, 'credit_card': '3562917312487449', 'Tax': 5559.11}, {'ID': '98-1640163', 'LastName': 'Satyford', 'FirstName': 'Pénélope', 'email': 'asatyford5@friendfeed.com', 'Plus': 31883.05, 'Minus': 11529.92, 'credit_card': '3564171803659243', 'Tax': 5939.26}, {'ID': '58-9143184', 'LastName': 'Corballis', 'FirstName': 'Clémentine', 'email': 'scorballis6@mapquest.com', 'Plus': 25340.9, 'Minus': 3241.86, 'credit_card': '341075109903237', 'Tax': 45625.23}, {'ID': '87-3594410', 'LastName': 'Hiseman', 'FirstName': 'Bénédicte', 'email': 'chiseman7@sciencedirect.com', 'Plus': 46081.76, 'Minus': 36954.21, 'credit_card': '3548420880126084', 'Tax': 19464.18}, {'ID': '74-7031522', 'LastName': 'Easton', 'FirstName': 'Mà', 'email': '', 'Plus': 37139.51, 'Minus': 14322.8, 'credit_card': '3528412919441844', 'Tax': 44003.8}, {'ID': '86-6585171', 'LastName': 'Biasotti', 'FirstName': 'Sòng', 'email': 'mbiasotti9@xrea.com', 'Plus': 48030.9, 'Minus': 31800.42, 'credit_card': '3558072029644498', 'Tax': 4110.14}]\n"
          ]
        }
      ]
    },
    {
      "cell_type": "markdown",
      "source": [
        "## Решение задачи 1"
      ],
      "metadata": {
        "id": "Xs4oLWFl2eGJ"
      }
    },
    {
      "cell_type": "markdown",
      "source": [
        "Первая задача:\n",
        "Найдите держателя карты с максимальной прибылью. В ответе необходимо указать ФИО держателя и максимальную прибыль (прибыль = поступления – списания).\n",
        "\n",
        "Переберем все элементы в списке `all_clients` и выберем клиента с максимальной разницей `client['Plus'] - client['Minus']`\n",
        "\n"
      ],
      "metadata": {
        "id": "HD07G40-3FNH"
      }
    },
    {
      "cell_type": "code",
      "source": [
        "# переменные для хранения целевого клиента и максимальной прибыли\n",
        "target_client=[]\n",
        "max_profit=0\n",
        "\n",
        "for client in all_clients:\n",
        "  if client['Plus'] - client['Minus'] > max_profit:\n",
        "    max_profit = client['Plus'] - client['Minus']\n",
        "    target_client = client\n",
        "\n",
        "print('Максимальная прибыль: ', max_profit)\n",
        "print('Клиент с максимальной прибылью', target_client)"
      ],
      "metadata": {
        "id": "SHaDC2Tl2-YB",
        "colab": {
          "base_uri": "https://localhost:8080/"
        },
        "outputId": "90157221-f1d4-43c1-cb02-af9f2b908094"
      },
      "execution_count": 5,
      "outputs": [
        {
          "output_type": "stream",
          "name": "stdout",
          "text": [
            "Максимальная прибыль:  45913.590000000004\n",
            "Клиент с максимальной прибылью {'ID': '98-9398689', 'LastName': 'Lingwood', 'FirstName': 'Maïté', 'email': 'mlingwood1y@wordpress.com', 'Plus': 47412.86, 'Minus': 1499.27, 'credit_card': '201561279094179', 'Tax': 23816.11}\n"
          ]
        }
      ]
    },
    {
      "cell_type": "markdown",
      "source": [
        "## Решение задачи 2"
      ],
      "metadata": {
        "id": "9ky-Ji8ppVb9"
      }
    },
    {
      "cell_type": "markdown",
      "source": [
        "Вторая задача: Найдите количество держателей карт, у которых сумма уплаченного налога больше среднего арифметического значения налога по всей выборке.\n",
        "\n",
        "Задачу можно решить также перебором всей выборки, но предварительно необходимо определить среднее значение уплаченных налогов"
      ],
      "metadata": {
        "id": "0wmxLp6zBcdo"
      }
    },
    {
      "cell_type": "code",
      "source": [
        "# Определим среднее значение нолога\n",
        "total_tax = 0\n",
        "count_tax = len(all_clients)\n",
        "\n",
        "for client in all_clients:\n",
        "  total_tax += client['Tax']\n",
        "\n",
        "avg_tax = total_tax / count_tax\n",
        "\n",
        "print('Среднее значение налога = %.2f' % avg_tax)\n",
        "\n",
        "counter=0\n",
        "for client in all_clients:\n",
        "  if client['Tax'] > avg_tax:\n",
        "    counter+=1\n",
        "\n",
        "print('Количество клиентов с налогом выше среднего: ', counter)"
      ],
      "metadata": {
        "colab": {
          "base_uri": "https://localhost:8080/"
        },
        "id": "v5SpmCokphuJ",
        "outputId": "601e436f-167b-4291-9328-f43503c4eaef"
      },
      "execution_count": 6,
      "outputs": [
        {
          "output_type": "stream",
          "name": "stdout",
          "text": [
            "Среднее значение налога = 24939.93\n",
            "Количество клиентов с налогом выше среднего:  489\n"
          ]
        }
      ]
    },
    {
      "cell_type": "markdown",
      "source": [
        "В данной работе были использованы операторы `if` (условный оператор), `for ... in range(...)` (оператор цикла с обходом диапазона). Применялись функции `print()`, `len()`, `max()`. В работе использовался тип данных `dict()`"
      ],
      "metadata": {
        "id": "kfm23877A4o2"
      }
    },
    {
      "cell_type": "markdown",
      "source": [
        "# Контрольные вопросы"
      ],
      "metadata": {
        "id": "JRIh2qs3mz4D"
      }
    },
    {
      "cell_type": "markdown",
      "source": [
        "Ответы на контрольные вопросы с кодом ...."
      ],
      "metadata": {
        "id": "N0BSKd_1m91y"
      }
    }
  ]
}