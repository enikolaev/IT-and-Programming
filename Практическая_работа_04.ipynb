{
  "nbformat": 4,
  "nbformat_minor": 0,
  "metadata": {
    "colab": {
      "provenance": [],
      "toc_visible": true,
      "authorship_tag": "ABX9TyNwBXqHjC2w2oxQ/0r/fiDq",
      "include_colab_link": true
    },
    "kernelspec": {
      "name": "python3",
      "display_name": "Python 3"
    },
    "language_info": {
      "name": "python"
    }
  },
  "cells": [
    {
      "cell_type": "markdown",
      "metadata": {
        "id": "view-in-github",
        "colab_type": "text"
      },
      "source": [
        "<a href=\"https://colab.research.google.com/github/enikolaev/IT-and-Programming/blob/main/%D0%9F%D1%80%D0%B0%D0%BA%D1%82%D0%B8%D1%87%D0%B5%D1%81%D0%BA%D0%B0%D1%8F_%D1%80%D0%B0%D0%B1%D0%BE%D1%82%D0%B0_04.ipynb\" target=\"_parent\"><img src=\"https://colab.research.google.com/assets/colab-badge.svg\" alt=\"Open In Colab\"/></a>"
      ]
    },
    {
      "cell_type": "markdown",
      "source": [
        "# Практическая работа 4. Файлы и исключения"
      ],
      "metadata": {
        "id": "C3DZeo7xi2HL"
      }
    },
    {
      "cell_type": "markdown",
      "source": [
        "## Задание"
      ],
      "metadata": {
        "id": "8wIyzax9q7JF"
      }
    },
    {
      "cell_type": "markdown",
      "source": [
        "В файле data_v1.txt содержится последовательность символов, содержащая буквы латинского алфавита и десятичные цифры. Необходимо решить следующие задачи:\n",
        "1. Найдите максимальное четное число в строке (под числом понимается последовательность цифр, ограниченная буквами).\n",
        "2. Найдите буквенную подпоследовательность максимальной длины (то есть подпоследовательность не содержащую цифр). В ответе укажите ее длину.\n",
        "3. Найдите символ в файле, который встречается чаще всего. Если таких символов несколько, то выведите все эти символы, в конце укажите одно число – сколько раз встречаются эти символы.\n"
      ],
      "metadata": {
        "id": "A1UMdzQGjFix"
      }
    },
    {
      "cell_type": "markdown",
      "source": [
        "## Анализ задания, получение данных"
      ],
      "metadata": {
        "id": "RGlwZaXQrAfd"
      }
    },
    {
      "cell_type": "markdown",
      "source": [
        "Файл data_v1.txt расположен репозитории. Выполним копирование файла в локальное хранилище Google Colab, используя следующую команду:"
      ],
      "metadata": {
        "id": "dusmGf0PoHeU"
      }
    },
    {
      "cell_type": "code",
      "execution_count": null,
      "metadata": {
        "id": "GRcewQyGh7dD",
        "colab": {
          "base_uri": "https://localhost:8080/"
        },
        "outputId": "7be7c43f-9d65-4688-c620-533cdf97e973"
      },
      "outputs": [
        {
          "output_type": "stream",
          "name": "stdout",
          "text": [
            "--2023-01-30 09:15:55--  https://raw.githubusercontent.com/enikolaev/IT-and-Programming/main/data/data_v1.txt\n",
            "Resolving raw.githubusercontent.com (raw.githubusercontent.com)... 185.199.108.133, 185.199.109.133, 185.199.110.133, ...\n",
            "Connecting to raw.githubusercontent.com (raw.githubusercontent.com)|185.199.108.133|:443... connected.\n",
            "HTTP request sent, awaiting response... 200 OK\n",
            "Length: 100002 (98K) [text/plain]\n",
            "Saving to: ‘data_v1.txt’\n",
            "\n",
            "\rdata_v1.txt           0%[                    ]       0  --.-KB/s               \rdata_v1.txt         100%[===================>]  97.66K  --.-KB/s    in 0.002s  \n",
            "\n",
            "2023-01-30 09:15:55 (47.5 MB/s) - ‘data_v1.txt’ saved [100002/100002]\n",
            "\n"
          ]
        }
      ],
      "source": [
        "!wget https://raw.githubusercontent.com/enikolaev/IT-and-Programming/main/data/data_v1.txt\n"
      ]
    },
    {
      "cell_type": "markdown",
      "source": [
        "Можно скопировать и поместить файл с данными любым удобным способом"
      ],
      "metadata": {
        "id": "hupq--jq0PA3"
      }
    },
    {
      "cell_type": "markdown",
      "source": [
        "Реализуем чтение всего файла в строку с использованием метоа `open()` и `read()`:"
      ],
      "metadata": {
        "id": "YlvR9gr-9qJY"
      }
    },
    {
      "cell_type": "code",
      "source": [
        "f=open('data_v1.txt')\n",
        "s=f.read().strip()\n",
        "print(len(s))"
      ],
      "metadata": {
        "colab": {
          "base_uri": "https://localhost:8080/"
        },
        "id": "GzShFx3l0l49",
        "outputId": "8a4fddd3-38f1-41cf-f1d0-0be0bccc594f"
      },
      "execution_count": null,
      "outputs": [
        {
          "output_type": "stream",
          "name": "stdout",
          "text": [
            "100000\n"
          ]
        }
      ]
    },
    {
      "cell_type": "markdown",
      "source": [
        "Обратите внимание на использование методв `strip()`"
      ],
      "metadata": {
        "id": "7F4tUxgX1dwL"
      }
    },
    {
      "cell_type": "markdown",
      "source": [
        "## Обработка символьной последовательности"
      ],
      "metadata": {
        "id": "vq_Sojap2Crl"
      }
    },
    {
      "cell_type": "markdown",
      "source": [
        "Строки, подобно списка, являются коллекциями. Только в качестве элементов последовательности выступают символы. Для строк также используются функции нахождения длины `len()`, операция индексации `[]`"
      ],
      "metadata": {
        "id": "ph9AVTOp-etP"
      }
    },
    {
      "cell_type": "markdown",
      "source": [
        "Например, можно посимвольно обходить строку, используя цикл `for` и индекс строки:"
      ],
      "metadata": {
        "id": "HZUZu-Jx-zYn"
      }
    },
    {
      "cell_type": "code",
      "source": [
        "# Вывод первых 10 символов строки с одновременным анализом буква это или цифра\n",
        "for i in range(10):\n",
        "  c = s[i]\n",
        "  if c.isdigit():\n",
        "    t = 'цифра'\n",
        "  else:\n",
        "    t='буква'\n",
        "  print(c, t)"
      ],
      "metadata": {
        "colab": {
          "base_uri": "https://localhost:8080/"
        },
        "id": "FkMWXzXO2Ra2",
        "outputId": "06e2b382-6608-4768-b807-595b8d08a3df"
      },
      "execution_count": null,
      "outputs": [
        {
          "output_type": "stream",
          "name": "stdout",
          "text": [
            "Z буква\n",
            "S буква\n",
            "t буква\n",
            "M буква\n",
            "P буква\n",
            "i буква\n",
            "7 цифра\n",
            "c буква\n",
            "s буква\n",
            "i буква\n"
          ]
        }
      ]
    },
    {
      "cell_type": "markdown",
      "source": [
        "## Решение задачи 1"
      ],
      "metadata": {
        "id": "Xs4oLWFl2eGJ"
      }
    },
    {
      "cell_type": "markdown",
      "source": [
        "Будем посимвольно обходимть строку и накапливать символы-цифры в строке `target`. Если цифровая последовательность прервется, то конвертируем `target` в число `int` и проверяем является ли число четным и не превысило ли оно максимум"
      ],
      "metadata": {
        "id": "HD07G40-3FNH"
      }
    },
    {
      "cell_type": "code",
      "source": [
        "target=''\n",
        "maxx=0\n",
        "for c in s:\n",
        "  if c.isdigit():\n",
        "    target+=c\n",
        "  else:\n",
        "    if target!='':\n",
        "      x = int(target)\n",
        "      maxx=max(x, maxx)\n",
        "      target=''\n",
        "\n",
        "print('Максимальное четное число = %d' % maxx)\n"
      ],
      "metadata": {
        "id": "SHaDC2Tl2-YB",
        "colab": {
          "base_uri": "https://localhost:8080/"
        },
        "outputId": "ca5b350b-acae-4e89-f6d7-3cb6b7db9950"
      },
      "execution_count": null,
      "outputs": [
        {
          "output_type": "stream",
          "name": "stdout",
          "text": [
            "Максимальное четное число = 838478\n"
          ]
        }
      ]
    },
    {
      "cell_type": "markdown",
      "source": [
        "## Решение задачи 2"
      ],
      "metadata": {
        "id": "9ky-Ji8ppVb9"
      }
    },
    {
      "cell_type": "markdown",
      "source": [
        "Решение данной задачи осуществляется аналогично предыдущей. Можно даже вывести самуюдлинную буквенную строку"
      ],
      "metadata": {
        "id": "0wmxLp6zBcdo"
      }
    },
    {
      "cell_type": "code",
      "source": [
        "target=''\n",
        "maxx=0\n",
        "maxs=''\n",
        "for c in s:\n",
        "  if c.isalpha():\n",
        "    target+=c\n",
        "  else:\n",
        "    if len(target)>maxx:\n",
        "      maxx=len(target)\n",
        "      maxs=target\n",
        "      target=''\n",
        "\n",
        "print('Максимальная длина буквенной строки = %d' % maxx)\n",
        "print('Сама строка:', maxs)"
      ],
      "metadata": {
        "colab": {
          "base_uri": "https://localhost:8080/"
        },
        "id": "v5SpmCokphuJ",
        "outputId": "bc00db12-2f0e-458b-8549-246dd66d688d"
      },
      "execution_count": null,
      "outputs": [
        {
          "output_type": "stream",
          "name": "stdout",
          "text": [
            "Максимальная длина буквенной строки = 1025\n",
            "Сама строка: rpfunCMcMCfmnlNBbiCkCOPQsRYZmLjneFWZJjHqUxiTFGtMiKUTvaUkXBQnvGgpnDmUtFNyXZwWIdyqBWzLEqsTqoXCOkPaFQTuVxYeTftNLcEEjnRUqqAfeOmBHdcIDfyBpmvYjIivcZXMaflpfECMZKprJUSPIJtoolmBwWFmTiXtLsUgZrirYdtPUGEhsmAgGwqxoTcNlbtFmVApQAkcRiRFbvQxKwpdEVZhgUAymnZnRnJVmnDIvHmxtJkiICukqvSsMRrAHDBsAFDBWieGPhTcXNdetYzIdITVgvyiPqhPTKtixxggpYfCThpmcEqclpTTjnnHAXbpWOaOPlGcabgWvgiDDOhSWdTviUlNvTaoEVhoBfgrJkoJxtyDWXjVYYRokqkKPwRdkPkQYaVIoHCAfYPEyHgBsbUkYQyKNfgyWNJJsmtAoTPGrHKwUyJDvCEqgeRLTFdpqxaZFFGJrmkQuqbyadKxgWFsznrBtZyuubYwcmDAMqCqWXSUomuCMcFWWoxAWMJfdcYlDGMDSSCnYCUOVvgENGKZiTXKuLaLtMHTPjKmWwjwhfaePXiOPwZdvnAlPruuGwKhbRevjOHPVWIShguJJgKLaqUMJLwokvxJzYpvfOvfzRDHGQbnrWxESwCdsUzxyFWEYqRXpihePHiHXbMXBYyvIcUlaudLjXIPdXdMHrExnGgHeanzgtDSgSGOkxupzNQitVYWFXSNOpsdKMAveZQieNAqCMEXZzBdemldlsWCpiIMuQomlFEbZKcBwxAbNlFGPejoMQxgPHzXiskhadywliHoMmZlokYoauVlxmuHrqhwJHYpgzfUAqwPBAQPJNKlKhhYCRrLocFcIEorvZnBPIjlLVtMzafAoNJRufesTkbJcvviKEOSowgawXzWsFeUYgGsrdXZHbRGVQGvSczyAvdAeLjScCtYfmChsBrRoekihryFAAMAUHMtRwTgNOmUzLUSvcVtKROJAQTcsYdjlSdysBhQBTCpScbdXJjnRXvzT\n"
          ]
        }
      ]
    },
    {
      "cell_type": "markdown",
      "source": [
        "## Решение задачи 3"
      ],
      "metadata": {
        "id": "L-Uil8q1B7CH"
      }
    },
    {
      "cell_type": "markdown",
      "source": [
        "Для решения данной задачи будем использовать коллекцию словарь `dict()`. Данная коллекция содержит элемкнты в виде пар `ключ : значение`. Доступ к элементам осуществляется по ключу с использованием операции ндексации."
      ],
      "metadata": {
        "id": "0njxeJH_B-_H"
      }
    },
    {
      "cell_type": "markdown",
      "source": [
        "Заполним словарь d, который после прохода по строке должен принять вид:\n",
        "d = {'A' : 10, 'B' : 127, '3' : 217, ... }\n",
        "то есть в качестве ключа будем использовать символ, а вкачестве значения - количество таких символов в строке:"
      ],
      "metadata": {
        "id": "n7s94FQ1CcZI"
      }
    },
    {
      "cell_type": "code",
      "source": [
        "# Создаем пустой словарь\n",
        "d={}\n",
        "# Проходим по строке и заполняем словарь\n",
        "for c in s:\n",
        "  d[c] = d.get(c, 0) + 1\n",
        "\n",
        "# Выводим получившийся словарь:\n",
        "print(d)"
      ],
      "metadata": {
        "colab": {
          "base_uri": "https://localhost:8080/"
        },
        "id": "S2nYKZoCC2t3",
        "outputId": "c4142a57-eb5f-4919-b1f1-e514907622fe"
      },
      "execution_count": null,
      "outputs": [
        {
          "output_type": "stream",
          "name": "stdout",
          "text": [
            "{'Z': 1623, 'S': 1613, 't': 1711, 'M': 1618, 'P': 1670, 'i': 1542, '7': 1643, 'c': 1562, 's': 1606, 'T': 1699, 'b': 1555, 'r': 1581, 'm': 1686, 'E': 1662, 'h': 1596, '8': 1654, 'f': 1609, 'B': 1647, 'K': 1616, 'a': 1586, 'F': 1623, 'O': 1580, 'w': 1582, 'o': 1609, '5': 1631, '1': 1580, 'W': 1595, '6': 1597, '0': 1651, 'I': 1604, 'u': 1606, 'e': 1566, 'p': 1644, 'D': 1644, 'A': 1638, 'Q': 1544, 'J': 1638, 'U': 1629, 'R': 1590, 'C': 1570, 'G': 1597, 'k': 1618, 'j': 1603, 'N': 1636, 'l': 1583, '2': 1600, 'q': 1614, 'X': 1619, 'H': 1565, '3': 1587, 'L': 1635, 'Y': 1647, '9': 1611, 'V': 1601, 'x': 1654, 'y': 1593, 'g': 1603, '4': 1599, 'v': 1655, 'd': 1599, 'z': 1615, 'n': 1566}\n"
          ]
        }
      ]
    },
    {
      "cell_type": "markdown",
      "source": [
        "В получившемся словаре необходимо найти самый частотный символ. Для этого не будем обходить словарь, а просто воспользуемся встроенной функцией `max()`, которую применим к коллекции `values()` словаря"
      ],
      "metadata": {
        "id": "V6phns45DSLU"
      }
    },
    {
      "cell_type": "code",
      "source": [
        "max_val = max(d.values())\n",
        "print(max_val)"
      ],
      "metadata": {
        "colab": {
          "base_uri": "https://localhost:8080/"
        },
        "id": "v9tuZfxcDq_w",
        "outputId": "2d16e624-3545-48c0-d736-b6ef82abad2c"
      },
      "execution_count": null,
      "outputs": [
        {
          "output_type": "stream",
          "name": "stdout",
          "text": [
            "1711\n"
          ]
        }
      ]
    },
    {
      "cell_type": "markdown",
      "source": [
        "Выполним обход словаря и напечатаем ответ к данной задаче:"
      ],
      "metadata": {
        "id": "pQdDC_ojDy2G"
      }
    },
    {
      "cell_type": "code",
      "source": [
        "for k in d:\n",
        "  if d[k]==max_val:\n",
        "    print(k, end=' ')\n",
        "print(max_val)"
      ],
      "metadata": {
        "colab": {
          "base_uri": "https://localhost:8080/"
        },
        "id": "T2fCfvLuD5R2",
        "outputId": "fab16dd8-b5d6-452e-9789-6fb49214abf7"
      },
      "execution_count": null,
      "outputs": [
        {
          "output_type": "stream",
          "name": "stdout",
          "text": [
            "t 1711\n"
          ]
        }
      ]
    },
    {
      "cell_type": "markdown",
      "source": [
        "Для данного файла только один символ `t` встречается в файле максимальное `1711` количество раз"
      ],
      "metadata": {
        "id": "8gAJQBjSEHC-"
      }
    },
    {
      "cell_type": "markdown",
      "source": [
        "В данной работе были использованы операторы `if` (условный оператор), `for ... in range(...)` (оператор цикла с обходом диапазона). Применялись функции `print()`, `len()`, `max()`. В работе использовался тип данных `dict()`"
      ],
      "metadata": {
        "id": "kfm23877A4o2"
      }
    }
  ]
}