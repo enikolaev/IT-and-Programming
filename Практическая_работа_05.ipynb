{
  "nbformat": 4,
  "nbformat_minor": 0,
  "metadata": {
    "colab": {
      "provenance": [],
      "toc_visible": true,
      "authorship_tag": "ABX9TyNWYaOYDjB5pD5ZOSvUMHHW",
      "include_colab_link": true
    },
    "kernelspec": {
      "name": "python3",
      "display_name": "Python 3"
    },
    "language_info": {
      "name": "python"
    }
  },
  "cells": [
    {
      "cell_type": "markdown",
      "metadata": {
        "id": "view-in-github",
        "colab_type": "text"
      },
      "source": [
        "<a href=\"https://colab.research.google.com/github/enikolaev/IT-and-Programming/blob/main/%D0%9F%D1%80%D0%B0%D0%BA%D1%82%D0%B8%D1%87%D0%B5%D1%81%D0%BA%D0%B0%D1%8F_%D1%80%D0%B0%D0%B1%D0%BE%D1%82%D0%B0_05.ipynb\" target=\"_parent\"><img src=\"https://colab.research.google.com/assets/colab-badge.svg\" alt=\"Open In Colab\"/></a>"
      ]
    },
    {
      "cell_type": "markdown",
      "source": [
        "# Практическая работа 5. Обработка данных с использованием списков"
      ],
      "metadata": {
        "id": "C3DZeo7xi2HL"
      }
    },
    {
      "cell_type": "markdown",
      "source": [
        "## Задание"
      ],
      "metadata": {
        "id": "8wIyzax9q7JF"
      }
    },
    {
      "cell_type": "markdown",
      "source": [
        "В файле pr5.txt содержится последовательность целых чисел. Элементы последовательности могут принимать целые значения от –10 000 до 10 000 включительно. Определите количество пар, в которых оба элемента больше, чем среднее арифметическое всех чисел в файле, а их сумма оканчивается на 31. В ответе запишите два числа: сначала количество найденных пар, а затем – максимальную сумму элементов таких пар. В данной задаче под парой подразумевается два идущих подряд элемента последовательности. При решении задачи необходимо использовать списочный тип данных.\n"
      ],
      "metadata": {
        "id": "A1UMdzQGjFix"
      }
    },
    {
      "cell_type": "markdown",
      "source": [
        "## Решение"
      ],
      "metadata": {
        "id": "RGlwZaXQrAfd"
      }
    },
    {
      "cell_type": "markdown",
      "source": [
        "Файл pr5.txt расположен репозитории. Выполним копирование файла в локальное хранилище Google Colab, используя следующую команду:"
      ],
      "metadata": {
        "id": "dusmGf0PoHeU"
      }
    },
    {
      "cell_type": "code",
      "execution_count": 1,
      "metadata": {
        "id": "GRcewQyGh7dD",
        "colab": {
          "base_uri": "https://localhost:8080/"
        },
        "outputId": "d048a656-ad3f-473c-b67f-24df490f6e3f"
      },
      "outputs": [
        {
          "output_type": "stream",
          "name": "stdout",
          "text": [
            "--2025-01-16 19:44:51--  https://raw.githubusercontent.com/enikolaev/IT-and-Programming/refs/heads/main/data/pract5/pr5.txt\n",
            "Resolving raw.githubusercontent.com (raw.githubusercontent.com)... 185.199.108.133, 185.199.110.133, 185.199.109.133, ...\n",
            "Connecting to raw.githubusercontent.com (raw.githubusercontent.com)|185.199.108.133|:443... connected.\n",
            "HTTP request sent, awaiting response... 200 OK\n",
            "Length: 63942 (62K) [text/plain]\n",
            "Saving to: ‘pr5.txt’\n",
            "\n",
            "\rpr5.txt               0%[                    ]       0  --.-KB/s               \rpr5.txt             100%[===================>]  62.44K  --.-KB/s    in 0.008s  \n",
            "\n",
            "2025-01-16 19:44:51 (8.01 MB/s) - ‘pr5.txt’ saved [63942/63942]\n",
            "\n"
          ]
        }
      ],
      "source": [
        "!wget https://raw.githubusercontent.com/enikolaev/IT-and-Programming/refs/heads/main/data/pract5/pr5.txt\n"
      ]
    },
    {
      "cell_type": "markdown",
      "source": [
        "Можно скопировать и поместить файл с данными любым удобным способом"
      ],
      "metadata": {
        "id": "hupq--jq0PA3"
      }
    },
    {
      "cell_type": "markdown",
      "source": [
        "Реализуем чтение строк из файла и конвертацию отдельных строк в числовые значения. Каждое получаемое число будем добавлять в список `data`."
      ],
      "metadata": {
        "id": "YlvR9gr-9qJY"
      }
    },
    {
      "cell_type": "code",
      "source": [
        "# Создаем пустой список\n",
        "data = []\n",
        "# Выполняем операции чтения и заполнение списка\n",
        "with open('pr5.txt') as F:\n",
        "  for line in F:\n",
        "    digit = int(line)\n",
        "    data.append(digit)\n",
        "\n",
        "# Посмотрим, что мы считали...\n",
        "print(len(data))\n",
        "print(data[:10])"
      ],
      "metadata": {
        "colab": {
          "base_uri": "https://localhost:8080/"
        },
        "id": "GzShFx3l0l49",
        "outputId": "d995992d-58e7-4231-f751-8fb463dcb205"
      },
      "execution_count": 2,
      "outputs": [
        {
          "output_type": "stream",
          "name": "stdout",
          "text": [
            "10000\n",
            "[1326, 4055, 9224, 1812, 2762, -2536, -9978, 2299, -2775, -1363]\n"
          ]
        }
      ]
    },
    {
      "cell_type": "markdown",
      "source": [
        "Теперь ответим на поставленные вопросы использую список `data`"
      ],
      "metadata": {
        "id": "7F4tUxgX1dwL"
      }
    },
    {
      "cell_type": "code",
      "source": [
        "# Вычислим среднее арифметическое всех чисел в файле\n",
        "sr = sum(data) / len(data)\n",
        "print(sr)"
      ],
      "metadata": {
        "colab": {
          "base_uri": "https://localhost:8080/"
        },
        "id": "FkMWXzXO2Ra2",
        "outputId": "0b2a997f-7dc9-401f-9707-ffee3edaf548"
      },
      "execution_count": 3,
      "outputs": [
        {
          "output_type": "stream",
          "name": "stdout",
          "text": [
            "-105.6732\n"
          ]
        }
      ]
    },
    {
      "cell_type": "code",
      "source": [
        "# Подсчет количества подходящих пар\n",
        "counter = 0\n",
        "max_sum = -10000\n",
        "for i in range(len(data)-1):\n",
        "  # пара элементов\n",
        "  x, y = data[i], data[i+1]\n",
        "  # проверяем, подходит ли пара\n",
        "  if x>sr and y>sr and str(x+y)[-2:] == '31':\n",
        "    counter +=1\n",
        "    max_sum = max(max_sum, x+y)\n",
        "    # print(x, y, x+y)\n",
        "\n",
        "print(f'Количество подходящих пар = {counter}')\n",
        "print(f'Максимальная сумма = {max_sum}')"
      ],
      "metadata": {
        "colab": {
          "base_uri": "https://localhost:8080/"
        },
        "id": "wC0xN5bamg5d",
        "outputId": "346a7d23-39ee-444c-b5d3-53f3187d43e8"
      },
      "execution_count": 4,
      "outputs": [
        {
          "output_type": "stream",
          "name": "stdout",
          "text": [
            "Количество подходящих пар = 21\n",
            "Максимальная сумма = 17631\n"
          ]
        }
      ]
    },
    {
      "cell_type": "markdown",
      "source": [
        "Выполните задание в соответствии с индивидуальным вариантом"
      ],
      "metadata": {
        "id": "i1TowSLeYGn5"
      }
    },
    {
      "cell_type": "code",
      "source": [
        "# Здесь код индивидуального задания..."
      ],
      "metadata": {
        "id": "pxTngNJoYL2x"
      },
      "execution_count": null,
      "outputs": []
    }
  ]
}