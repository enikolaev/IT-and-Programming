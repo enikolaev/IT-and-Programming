{
  "nbformat": 4,
  "nbformat_minor": 0,
  "metadata": {
    "colab": {
      "provenance": [],
      "authorship_tag": "ABX9TyMtpw4JZKVcSxo78t2GlPaZ",
      "include_colab_link": true
    },
    "kernelspec": {
      "name": "python3",
      "display_name": "Python 3"
    },
    "language_info": {
      "name": "python"
    }
  },
  "cells": [
    {
      "cell_type": "markdown",
      "metadata": {
        "id": "view-in-github",
        "colab_type": "text"
      },
      "source": [
        "<a href=\"https://colab.research.google.com/github/enikolaev/IT-and-Programming/blob/main/%D0%9F%D1%80%D0%B0%D0%BA%D1%82%D0%B8%D1%87%D0%B5%D1%81%D0%BA%D0%B0%D1%8F_%D1%80%D0%B0%D0%B1%D0%BE%D1%82%D0%B0_06.ipynb\" target=\"_parent\"><img src=\"https://colab.research.google.com/assets/colab-badge.svg\" alt=\"Open In Colab\"/></a>"
      ]
    },
    {
      "cell_type": "markdown",
      "source": [
        "# Практическая работа 6. Работа со строками"
      ],
      "metadata": {
        "id": "C3DZeo7xi2HL"
      }
    },
    {
      "cell_type": "markdown",
      "source": [
        "## Задание"
      ],
      "metadata": {
        "id": "8wIyzax9q7JF"
      }
    },
    {
      "cell_type": "markdown",
      "source": [
        "Текстовый файл `pr6.txt` содержит строку из заглавных латинских букв и точек, всего не более чем из $10^6$ символов. Определите максимальное количество идущих подряд символов, среди которых нет точек, а количество гласных (букв A, E, I, O, U, Y) не превышает 7.\n",
        "Например, для строки символов:\n",
        "`ASD.DFGUIO.OOOAEEERUY.UYTEE`\n",
        "под условие задачи подходя подстроки: `ASD`, `DFGUIO` и `UYTEE`. Среди допустимых последовательностей максимальную длину имеет подстрока `DFGUIO`. Ответ: 6.\n",
        "\n"
      ],
      "metadata": {
        "id": "A1UMdzQGjFix"
      }
    },
    {
      "cell_type": "markdown",
      "source": [
        "## Решение"
      ],
      "metadata": {
        "id": "RGlwZaXQrAfd"
      }
    },
    {
      "cell_type": "markdown",
      "source": [
        "Файл pr6.txt расположен репозитории. Выполним копирование файла в локальное хранилище Google Colab, используя следующую команду:"
      ],
      "metadata": {
        "id": "dusmGf0PoHeU"
      }
    },
    {
      "cell_type": "code",
      "execution_count": 1,
      "metadata": {
        "id": "GRcewQyGh7dD",
        "colab": {
          "base_uri": "https://localhost:8080/"
        },
        "outputId": "1061d222-dc3d-4377-c971-2692cfbe29db"
      },
      "outputs": [
        {
          "output_type": "stream",
          "name": "stdout",
          "text": [
            "--2025-01-16 19:58:44--  https://raw.githubusercontent.com/enikolaev/IT-and-Programming/refs/heads/main/data/pract6/pr6.txt\n",
            "Resolving raw.githubusercontent.com (raw.githubusercontent.com)... 185.199.108.133, 185.199.109.133, 185.199.110.133, ...\n",
            "Connecting to raw.githubusercontent.com (raw.githubusercontent.com)|185.199.108.133|:443... connected.\n",
            "HTTP request sent, awaiting response... 200 OK\n",
            "Length: 1000000 (977K) [text/plain]\n",
            "Saving to: ‘pr6.txt’\n",
            "\n",
            "pr6.txt             100%[===================>] 976.56K  --.-KB/s    in 0.04s   \n",
            "\n",
            "2025-01-16 19:58:44 (25.8 MB/s) - ‘pr6.txt’ saved [1000000/1000000]\n",
            "\n"
          ]
        }
      ],
      "source": [
        "!wget https://raw.githubusercontent.com/enikolaev/IT-and-Programming/refs/heads/main/data/pract6/pr6.txt"
      ]
    },
    {
      "cell_type": "markdown",
      "source": [
        "Можно скопировать и поместить файл с данными нв виртуальную машину Google Colab любым удобным способом"
      ],
      "metadata": {
        "id": "hupq--jq0PA3"
      }
    },
    {
      "cell_type": "markdown",
      "source": [
        "Реализуем чтение строки из файла"
      ],
      "metadata": {
        "id": "YlvR9gr-9qJY"
      }
    },
    {
      "cell_type": "code",
      "source": [
        "mystr = open('pr6.txt').read().strip()\n",
        "\n",
        "# Посмотрим, что мы считали...\n",
        "print(len(mystr))\n",
        "print(mystr[:50])"
      ],
      "metadata": {
        "colab": {
          "base_uri": "https://localhost:8080/"
        },
        "id": "GzShFx3l0l49",
        "outputId": "75491307-0223-4061-a25d-130a276c4c8c"
      },
      "execution_count": 2,
      "outputs": [
        {
          "output_type": "stream",
          "name": "stdout",
          "text": [
            "1000000\n",
            "MFYDAOTGVWKZZDYXTEKHYQET.JAZFYRGI.UZTOQHKCFFOKSOOU\n"
          ]
        }
      ]
    },
    {
      "cell_type": "markdown",
      "source": [
        "Теперь ответим на поставленные вопросы, используя строку `mystr`"
      ],
      "metadata": {
        "id": "7F4tUxgX1dwL"
      }
    },
    {
      "cell_type": "code",
      "source": [
        "mystr = open('pr6.txt').read().strip()\n",
        "# mystr='ASD.DFGUIO.OOOAEEERUY.UYTEE'\n",
        "glas = 'AEIOUY'\n",
        "\n",
        "# заменим гласные на символ *\n",
        "for c in glas:\n",
        "  mystr = mystr.replace(c, '*')\n",
        "\n",
        "# порежем строку по символу *\n",
        "sub_str = mystr.split('.')\n",
        "max_len = 0\n",
        "\n",
        "# выполним обход всех подстрок ...\n",
        "for s in sub_str:\n",
        "  z = s.split('*')\n",
        "  # ... и проанализируем каждую подстроку\n",
        "  for i in range(len(z)-7):\n",
        "    t = ''.join(z[i:i+8])\n",
        "    if max_len < len(t):\n",
        "      max_len = len(t) + len(z[i:i+8])-1\n",
        "      print(t)\n",
        "      print(z[i:i+8])\n",
        "\n",
        "print(f'Максимальная подходящая подстрока: {max_len}')"
      ],
      "metadata": {
        "colab": {
          "base_uri": "https://localhost:8080/"
        },
        "id": "wC0xN5bamg5d",
        "outputId": "85855629-8984-47af-ad32-eff6c7d33235"
      },
      "execution_count": 4,
      "outputs": [
        {
          "output_type": "stream",
          "name": "stdout",
          "text": [
            "MFDTGVWKZZDXTKHQT\n",
            "['MF', 'D', '', 'TGVWKZZD', 'XT', 'KH', 'Q', 'T']\n",
            "QHKCFFKSKCTZNSLMLPTCZFJDXPTBWNCSWT\n",
            "['QHKCFF', 'KS', '', '', 'KC', 'TZN', 'SLMLPTCZ', 'FJDXPTBWNCSWT']\n",
            "SLPBWQPSGBWXBWJNLJSLDZJKCGZKMKHNCHGQMCDTKCQGSM\n",
            "['SLPBW', 'QPSG', 'BWXBWJNLJ', 'SLDZJ', 'KC', '', 'GZKMK', 'HNCHGQMCDTKCQGSM']\n",
            "MQVXTDWDJVZCMFRDVZXKBRJKKDWKXMVHJGVDWZGVGHWGHNCHVTWZGDD\n",
            "['MQV', 'XTDW', 'DJVZCMFRD', 'VZXKBRJ', 'KKDWKXMV', 'H', 'JGVDWZGVGH', 'WGHNCHVTWZGDD']\n",
            "LVSTRWJVBQQDNPLNJSKXWWQJGRNRTJDXNVJHNRRNWPBSMQMXCNRSPBGLMXBVCGVNXMP\n",
            "['LVSTRWJV', 'BQQDNPLNJSK', 'XWWQJ', 'GRNRTJDXNVJHNR', 'R', 'NWPBSMQMXCNRSP', 'BG', 'LMXBVCGVNXMP']\n",
            "CXXGKKRXLBDFXJRXXLGTBNGLVFRHZCSTXRVLRZXCJNQGKVGLKQLZTGJFTMVVPJWDKPHFHMHCLRHVMXSKCKW\n",
            "['CXXGKKRXLB', 'DFXJRXX', 'L', 'GTBNGLVFRHZCSTXRV', 'LRZXCJNQGKV', 'GLKQLZ', '', 'TGJFTMVVPJWDKPHFHMHCLRHVMXSKCKW']\n",
            "Максимальная подходящая подстрока: 90\n"
          ]
        }
      ]
    },
    {
      "cell_type": "markdown",
      "source": [
        "Выполните задание в соответствии с индивидуальным вариантом"
      ],
      "metadata": {
        "id": "i1TowSLeYGn5"
      }
    },
    {
      "cell_type": "code",
      "source": [
        "# Здесь код индивидуального задания..."
      ],
      "metadata": {
        "id": "pxTngNJoYL2x"
      },
      "execution_count": null,
      "outputs": []
    }
  ]
}